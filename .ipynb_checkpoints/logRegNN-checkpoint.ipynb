{
 "cells": [
  {
   "cell_type": "code",
   "execution_count": 1,
   "metadata": {
    "collapsed": true
   },
   "outputs": [],
   "source": [
    "#Importing all libraries\n",
    "import numpy as np\n",
    "import matplotlib.pyplot as plt\n",
    "import random\n",
    "import h5py\n",
    "import scipy\n",
    "from PIL import Image\n",
    "from scipy import ndimage\n",
    "\n",
    "%matplotlib inline"
   ]
  },
  {
   "cell_type": "markdown",
   "metadata": {},
   "source": [
    "# Model Definition"
   ]
  },
  {
   "cell_type": "code",
   "execution_count": 14,
   "metadata": {
    "collapsed": true
   },
   "outputs": [],
   "source": [
    "def model(X_train, Y_train, X_test, Y_test, num_iterations = 2000, learning_rate = 0.05):\n",
    "    \n",
    "    #initialize weights\n",
    "    nx = X_train.shape[0]\n",
    "    initial_w, initial_b = initialize_with_zeros(nx)\n",
    "    \n",
    "    #perform the training\n",
    "    final_params = optimize(X_train, Y_train, initial_w, initial_b, num_iterations, learning_rate)\n",
    "    final_w = final_params[\"w\"]\n",
    "    final_b = final_params[\"b\"]\n",
    "    \n",
    "    #make predictions\n",
    "    Y_train_predict = predict(X_train, final_w, final_b)\n",
    "    Y_test_predict = predict(X_test, final_w, final_b)\n",
    "    \n",
    "    #print out accuracy\n",
    "    print(\"train accuracy: {} %\".format(100 - np.mean(np.abs(Y_train_predict - Y_train)) * 100))\n",
    "    print(\"test accuracy: {} %\".format(100 - np.mean(np.abs(Y_test_predict - Y_test)) * 100))\n",
    "    \n",
    "    #save final params in a variable\n",
    "    return final_params"
   ]
  },
  {
   "cell_type": "markdown",
   "metadata": {},
   "source": [
    "# Data"
   ]
  },
  {
   "cell_type": "code",
   "execution_count": 11,
   "metadata": {
    "collapsed": true
   },
   "outputs": [],
   "source": [
    "#Import the data\n",
    "train_dataset = h5py.File('datasets/train_catvnoncat.h5', 'r')\n",
    "test_dataset = h5py.File('datasets/test_catvnoncat.h5', 'r')\n",
    "\n",
    "train_set_x_orig = np.array(train_dataset[\"train_set_x\"][:])\n",
    "train_set_y_orig = np.array(train_dataset[\"train_set_y\"][:])\n",
    "test_set_x_orig = np.array(test_dataset[\"test_set_x\"][:])\n",
    "test_set_y_orig = np.array(test_dataset[\"test_set_y\"][:])\n",
    "\n",
    "train_set_y_orig = train_set_y_orig.reshape(1, train_set_y_orig.shape[0])\n",
    "test_set_y_orig = test_set_y_orig.reshape(1, test_set_y_orig.shape[0])\n",
    "\n",
    "classes = np.array(test_dataset[\"list_classes\"][:])"
   ]
  },
  {
   "cell_type": "code",
   "execution_count": 12,
   "metadata": {
    "collapsed": true
   },
   "outputs": [],
   "source": [
    "#Preprocess the data\n",
    "train_set_x_flatten = train_set_x_orig.reshape(train_set_x_orig.shape[0], -1).T\n",
    "test_set_x_flatten = test_set_x_orig.reshape(test_set_x_orig.shape[0], -1).T\n",
    "\n",
    "#Normalize the data\n",
    "train_set_x_flatten = train_set_x_flatten/255\n",
    "test_set_x_flatten = test_set_x_flatten/255"
   ]
  },
  {
   "cell_type": "markdown",
   "metadata": {},
   "source": [
    "# Run the model"
   ]
  },
  {
   "cell_type": "code",
   "execution_count": 15,
   "metadata": {},
   "outputs": [
    {
     "name": "stdout",
     "output_type": "stream",
     "text": [
      "train accuracy: 100.0 %\n",
      "test accuracy: 66.0 %\n"
     ]
    }
   ],
   "source": [
    "final_params = model(train_set_x_flatten, train_set_y_orig, test_set_x_flatten, test_set_y_orig, 2000, 0.05)"
   ]
  },
  {
   "cell_type": "markdown",
   "metadata": {},
   "source": [
    "# Test the model"
   ]
  },
  {
   "cell_type": "code",
   "execution_count": null,
   "metadata": {
    "collapsed": true
   },
   "outputs": [],
   "source": [
    "my_image = \"Lion_waiting_in_Namibia.jpg\"\n",
    "\n",
    "#load and process image\n",
    "fname = \"testImages/\" + my_image\n",
    "image = np.array(ndimage.imread(fname, flatten=False))\n",
    "my_image = scipy.misc.imresize(image, size=(64,64)).reshape((1, 64*64*3)).T\n",
    "\n",
    "#predict\n",
    "my_predicted_image = predict(final_params[\"w\"], final_params[\"b\"], my_image)\n",
    "\n",
    "plt.imshow(image)\n",
    "print(\"y = \" + str(np.squeeze(my_predicted_image)) + \", your algorithm predicts a \\\"\" + classes[int(np.squeeze(my_predicted_image)),].decode(\"utf-8\") +  \"\\\" picture.\")"
   ]
  },
  {
   "cell_type": "markdown",
   "metadata": {},
   "source": [
    "# Supporting Functions"
   ]
  },
  {
   "cell_type": "code",
   "execution_count": 7,
   "metadata": {
    "collapsed": true
   },
   "outputs": [],
   "source": [
    "#Initialize weights\n",
    "def initialize_with_zeros(nx):\n",
    "    initial_w = np.zeros((nx, 1), dtype=float)\n",
    "    initial_b = 0\n",
    "    return initial_w, initial_b"
   ]
  },
  {
   "cell_type": "code",
   "execution_count": 8,
   "metadata": {
    "collapsed": true
   },
   "outputs": [],
   "source": [
    "def optimize(X, Y, w, b, num_iterations, learning_rate):\n",
    "    for i in range(num_iterations):\n",
    "        grads = propagate(X, Y, w, b)\n",
    "        dw = grads[\"dw\"]\n",
    "        db = grads[\"db\"]\n",
    "        w = w - learning_rate * dw\n",
    "        b = b - learning_rate * db\n",
    "    params = {\n",
    "        \"w\" : w,\n",
    "        \"b\" : b\n",
    "    }\n",
    "    return params"
   ]
  },
  {
   "cell_type": "code",
   "execution_count": 9,
   "metadata": {
    "collapsed": true
   },
   "outputs": [],
   "source": [
    "def propagate(X, Y, w, b):\n",
    "    A = sigmoid(np.dot(w.T, X) + b)\n",
    "    m = X.shape[1]\n",
    "    dw = (1/m) * np.dot(X, (A-Y).T)\n",
    "    db = (1/m) * np.sum(A-Y)\n",
    "    grads = {\n",
    "        \"dw\" : dw,\n",
    "        \"db\" : db\n",
    "    }\n",
    "    return grads\n",
    "\n",
    "def sigmoid(z):\n",
    "    H = 1 / (1 + np.exp(-z))\n",
    "    return H"
   ]
  },
  {
   "cell_type": "code",
   "execution_count": 10,
   "metadata": {
    "collapsed": true
   },
   "outputs": [],
   "source": [
    "def predict(X, w, b):\n",
    "    Y_predict = sigmoid(np.dot(w.T, X) + b)\n",
    "    for i in range(Y_predict.shape[1]):\n",
    "        if Y_predict[0, i] > 0.5:\n",
    "            Y_predict[0, i] = 1\n",
    "        else:\n",
    "            Y_predict[0, i] = 0\n",
    "    return Y_predict"
   ]
  }
 ],
 "metadata": {
  "kernelspec": {
   "display_name": "Python 3",
   "language": "python",
   "name": "python3"
  },
  "language_info": {
   "codemirror_mode": {
    "name": "ipython",
    "version": 3
   },
   "file_extension": ".py",
   "mimetype": "text/x-python",
   "name": "python",
   "nbconvert_exporter": "python",
   "pygments_lexer": "ipython3",
   "version": "3.6.3"
  }
 },
 "nbformat": 4,
 "nbformat_minor": 2
}
