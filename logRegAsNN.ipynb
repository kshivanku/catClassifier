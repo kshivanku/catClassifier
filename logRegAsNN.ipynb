{
 "cells": [
  {
   "cell_type": "code",
   "execution_count": 6,
   "metadata": {
    "collapsed": true
   },
   "outputs": [],
   "source": [
    "#import the required libraries\n",
    "import numpy as np\n",
    "import h5py\n",
    "import matplotlib.pyplot as plt\n",
    "import scipy\n",
    "from PIL import Image\n",
    "from scipy import ndimage\n",
    "import random\n",
    "\n",
    "%matplotlib inline"
   ]
  },
  {
   "cell_type": "code",
   "execution_count": 11,
   "metadata": {},
   "outputs": [],
   "source": [
    "#import the data\n",
    "train_dataset = h5py.File('datasets/train_catvnoncat.h5', 'r')\n",
    "test_dataset = h5py.File('datasets/test_catvnoncat.h5', 'r')\n",
    "\n",
    "train_set_x_orig = np.array(train_dataset[\"train_set_x\"][:])\n",
    "train_set_y_orig = np.array(train_dataset[\"train_set_y\"][:])\n",
    "test_set_x_orig = np.array(test_dataset[\"test_set_x\"][:])\n",
    "test_set_y_orig = np.array(test_dataset[\"test_set_y\"][:])\n",
    "\n",
    "classes = np.array(test_dataset[\"list_classes\"][:])\n",
    "\n",
    "train_set_y_orig = train_set_y_orig.reshape(1, train_set_y_orig.shape[0])\n",
    "test_set_y_orig = test_set_y_orig.reshape(1, test_set_y_orig.shape[0])"
   ]
  },
  {
   "cell_type": "code",
   "execution_count": 33,
   "metadata": {},
   "outputs": [
    {
     "name": "stdout",
     "output_type": "stream",
     "text": [
      "[17 31 56]\n"
     ]
    },
    {
     "data": {
      "image/png": "[encoded data removed]",
      "text/plain": [
       "<matplotlib.figure.Figure at 0x1814013c50>"
      ]
     },
     "metadata": {},
     "output_type": "display_data"
    }
   ],
   "source": [
    "#test if data entered is correct\n",
    "index = random.randint(0, train_set_x_orig.shape[0])\n",
    "plt.imshow(train_set_x_orig[index])"
   ]
  },
  {
   "cell_type": "code",
   "execution_count": 39,
   "metadata": {},
   "outputs": [
    {
     "name": "stdout",
     "output_type": "stream",
     "text": [
      "(12288, 209)\n"
     ]
    }
   ],
   "source": [
    "#Preprocess the data\n",
    "\n",
    "#flatten the array\n",
    "train_set_x_flatten = train_set_x_orig.reshape(train_set_x_orig.shape[0], -1).T\n",
    "test_set_x_flatten = test_set_x_orig.reshape(test_set_x_orig.shape[0], -1).T\n",
    "\n",
    "#DataNormalization\n",
    "train_set_x_flatten = train_set_x_flatten/255\n",
    "test_set_x_flatten = test_set_x_flatten/255\n"
   ]
  },
  {
   "cell_type": "code",
   "execution_count": 35,
   "metadata": {
    "collapsed": true
   },
   "outputs": [],
   "source": [
    "#Initialize the parameters\n",
    "def initialize_with_zeros(dim):\n",
    "    w = np.zeros((dim, 1), dtype=float)\n",
    "    b = 0\n",
    "    return w, b"
   ]
  },
  {
   "cell_type": "code",
   "execution_count": 50,
   "metadata": {},
   "outputs": [],
   "source": [
    "#Forward Propogation Functions\n",
    "\n",
    "def sigmoid(z):\n",
    "    a = 1 / (1 + np.exp(-z))\n",
    "    return a\n",
    "\n",
    "def propagate(w, b, X, Y):\n",
    "    m = X.shape[0]\n",
    "    A = sigmoid(np.dot(w.T, X) + b)\n",
    "    \n",
    "    cost = (-1/m)*(np.dot(Y, np.log(A.T)) + np.dot((1 - Y), np.log((1 - A).T)))\n",
    "    cost = np.squeeze(cost)\n",
    "    \n",
    "    dw = (1/m)*(np.dot(X, (A-Y).T))\n",
    "    db = (1/m)*(np.sum(A-Y))\n",
    "    \n",
    "    grads = {\n",
    "        \"dw\" : dw,\n",
    "        \"db\" : db\n",
    "    }\n",
    "    \n",
    "    return grads, cost"
   ]
  },
  {
   "cell_type": "code",
   "execution_count": 51,
   "metadata": {
    "collapsed": true
   },
   "outputs": [],
   "source": [
    "#Optimization Function\n",
    "\n",
    "def optimize(w, b, X, Y, num_iterations, learning_rate):\n",
    "    for i in range(num_iterations):\n",
    "        grads, cost = propagate(w, b, X, Y)\n",
    "        dw = grads[\"dw\"]\n",
    "        db = grads[\"db\"]\n",
    "        w = w - learning_rate * dw\n",
    "        b = b - learning_rate * db\n",
    "        \n",
    "    params = {\n",
    "        \"w\" : w,\n",
    "        \"b\" : b\n",
    "    }\n",
    "    return params"
   ]
  },
  {
   "cell_type": "code",
   "execution_count": 52,
   "metadata": {},
   "outputs": [],
   "source": [
    "#Predict Function\n",
    "def predict(w, b, X):\n",
    "    Y_prediction = sigmoid(np.dot(w.T, X) + b)\n",
    "    for i in range(Y_prediction.shape[1]):\n",
    "        if Y_prediction[0, i] > 0.5:\n",
    "            Y_prediction[0, i] = 1\n",
    "        else:\n",
    "            Y_prediction[0, i] = 0\n",
    "    return Y_prediction"
   ]
  },
  {
   "cell_type": "code",
   "execution_count": 53,
   "metadata": {},
   "outputs": [
    {
     "name": "stdout",
     "output_type": "stream",
     "text": [
      "train accuracy: 90.43062200956938 %\n",
      "test accuracy: 66.0 %\n"
     ]
    }
   ],
   "source": [
    "#Define Model\n",
    "def model(X_train, Y_train, X_test, Y_test, num_iterations, learning_rate):\n",
    "    dim = X_train.shape[0]\n",
    "    initial_w, initial_b = initialize_with_zeros(dim)\n",
    "    final_params = optimize(initial_w, initial_b, X_train, Y_train, num_iterations, learning_rate)\n",
    "    final_w = final_params[\"w\"]\n",
    "    final_b = final_params[\"b\"]\n",
    "    \n",
    "    Y_predict_train = predict(final_w, final_b, X_train)\n",
    "    Y_predict_test = predict(final_w, final_b, X_test)\n",
    "    \n",
    "    print(\"train accuracy: {} %\".format(100 - np.mean(np.abs(Y_predict_train - Y_train)) * 100))\n",
    "    print(\"test accuracy: {} %\".format(100 - np.mean(np.abs(Y_predict_test - Y_test)) * 100))\n",
    "    return final_params\n",
    "\n",
    "    \n",
    "final_params = model(train_set_x_flatten, train_set_y_orig, test_set_x_flatten, test_set_y_orig, num_iterations = 2000, learning_rate= 0.05)"
   ]
  },
  {
   "cell_type": "code",
   "execution_count": null,
   "metadata": {
    "collapsed": true
   },
   "outputs": [],
   "source": []
  }
 ],
 "metadata": {
  "kernelspec": {
   "display_name": "Python 3",
   "language": "python",
   "name": "python3"
  },
  "language_info": {
   "codemirror_mode": {
    "name": "ipython",
    "version": 3
   },
   "file_extension": ".py",
   "mimetype": "text/x-python",
   "name": "python",
   "nbconvert_exporter": "python",
   "pygments_lexer": "ipython3",
   "version": "3.6.3"
  }
 },
 "nbformat": 4,
 "nbformat_minor": 2
}
